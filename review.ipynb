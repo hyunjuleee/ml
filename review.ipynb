{
 "cells": [
  {
   "cell_type": "markdown",
   "id": "57411832-737a-43da-a7f3-6ee6e182cc59",
   "metadata": {},
   "source": [
    "### 1. K-최근접 이웃 알고리즘\n",
    "\"A는 도미일까, 빙어일까? 도미와 빙어의 무게, 길이를 바탕으로 A가 어떤 생선인지 찾는 알고리즘을 만들자.\"\n",
    "KNeighborsClassifier() 가장 가까운 이웃을 참고하여 정답을 예측하는 알고리즘\n",
    "- 샘플링 편향이 없는 샘플\n",
    "- 데이터 전처리: 두 특성의 스케일이 다를 때\n",
    "  - 표준점수: 데이터가 원점에서 몇 표준편차만큼 떨어져 있는지\n",
    " \n",
    "### 2. K-최근접 이웃 회귀\n",
    "\"농어의 길이, 높이, 두께를 측정한 데이터를 바탕으로 농어의 무게를 맞추자. 정확한 농어의 무게를 측정한 샘플도 있다.\"\n",
    "KNeighborsRegressor()\n",
    "- 회귀: 두 변수 사이의 상관관계를 분석. 정해진 클래스가 아닌, 임의의 수치를 출력\n",
    "- 근접 이웃들의 평균값을 출력\n",
    "- 과대적합: 훈련 세트에만 맞는 모델, 테스트 세트에서 점수가 낮음\n",
    "- 과소적합"
   ]
  }
 ],
 "metadata": {
  "kernelspec": {
   "display_name": "Python 3 (ipykernel)",
   "language": "python",
   "name": "python3"
  },
  "language_info": {
   "codemirror_mode": {
    "name": "ipython",
    "version": 3
   },
   "file_extension": ".py",
   "mimetype": "text/x-python",
   "name": "python",
   "nbconvert_exporter": "python",
   "pygments_lexer": "ipython3",
   "version": "3.12.4"
  }
 },
 "nbformat": 4,
 "nbformat_minor": 5
}
